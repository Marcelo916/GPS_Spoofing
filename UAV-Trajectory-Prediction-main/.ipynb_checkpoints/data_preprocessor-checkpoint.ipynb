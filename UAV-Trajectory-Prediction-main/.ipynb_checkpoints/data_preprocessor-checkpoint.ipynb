{
 "cells": [
  {
   "cell_type": "code",
   "execution_count": 1,
   "id": "a79f9ecd",
   "metadata": {},
   "outputs": [],
   "source": [
    "\"\"\"\n",
    "Convert AirSim's airsim_rec.txt to a clean CSV for\n",
    "ego-UAV short-term trajectory prediction.\n",
    "\n",
    "Directory layout expected:\n",
    "[root]/\n",
    "├─ raw_data/\n",
    "│   ├─ airsim_rec.txt\n",
    "│   └─ images/\n",
    "│       └─ img_SimpleFlight__0_<timestamp>.png\n",
    "│\n",
    "└─ data_collector.py   <-- this file\n",
    "\n",
    "Note: After running airsim API (which have import airsim), there is a high change ipynb/juypter notebook will not work, \n",
    "because there is a conflict between `airsim` and `ipykernel` module. So you need to reinstall it by: `pip install ipykernel`.\n",
    "\"\"\"\n",
    "\n",
    "from pathlib import Path\n",
    "import pandas as pd\n",
    "import numpy as np\n",
    "from scipy.spatial.transform import Rotation as R\n",
    "\n",
    "# ----------------------- paths -----------------------\n",
    "ROOT = Path(__file__).resolve().parent if \"__file__\" in globals() else Path.cwd()\n",
    "RAW_DIR    = ROOT / \"raw_data\"\n",
    "TXT_FILE   = RAW_DIR / \"airsim_rec.txt\"\n",
    "OUT_CSV    = RAW_DIR / \"airsim_trajectory.csv\"\n"
   ]
  },
  {
   "cell_type": "code",
   "execution_count": 2,
   "id": "1a8e1525",
   "metadata": {},
   "outputs": [
    {
     "name": "stdout",
     "output_type": "stream",
     "text": [
      "[✓]  Saved 217 rows to raw_data\\airsim_trajectory.csv\n"
     ]
    }
   ],
   "source": [
    "# -------------------- load .txt ----------------------\n",
    "df = pd.read_csv(\n",
    "    TXT_FILE,\n",
    "    sep=r\"\\t+\",           # tab‑delimited\n",
    "    engine=\"python\",\n",
    "    comment=\"#\"\n",
    ")\n",
    "\n",
    "# ----------------- drop vehicle name ----------------\n",
    "df = df.drop(columns=[\"VehicleName\"], errors=\"ignore\")\n",
    "\n",
    "# ------------- quaternion ➜ roll‑pitch‑yaw ----------\n",
    "def quat_to_rpy(qw, qx, qy, qz):\n",
    "    # scipy expects (x, y, z, w)\n",
    "    r = R.from_quat([qx, qy, qz, qw])\n",
    "    return r.as_euler(\"xyz\", degrees=False)   # roll, pitch, yaw\n",
    "\n",
    "rpy = np.vstack([\n",
    "    quat_to_rpy(qw, qx, qy, qz)\n",
    "    for qw, qx, qy, qz in df[[\"Q_W\",\"Q_X\",\"Q_Y\",\"Q_Z\"]].values\n",
    "])\n",
    "df[[\"ROLL\",\"PITCH\",\"YAW\"]] = rpy\n",
    "\n",
    "# optional: drop quaternion columns\n",
    "df = df.drop(columns=[\"Q_W\",\"Q_X\",\"Q_Y\",\"Q_Z\"])\n",
    "\n",
    "# ---------- add sin/cos of yaw for continuity -------\n",
    "df[\"YAW_SIN\"] = np.sin(df[\"YAW\"])\n",
    "df[\"YAW_COS\"] = np.cos(df[\"YAW\"])\n",
    "\n",
    "# ----------------- compute velocity -----------------\n",
    "# AirSim TimeStamp is in micro‑seconds\n",
    "df[\"TimeSec\"] = df[\"TimeStamp\"] * 1e-6\n",
    "\n",
    "for axis in [\"X\",\"Y\",\"Z\"]:\n",
    "    df[f\"VEL_{axis}\"] = df[f\"POS_{axis}\"].diff() / df[\"TimeSec\"].diff()\n",
    "\n",
    "# first row has NaNs after diff – drop or fill\n",
    "df = df.dropna().reset_index(drop=True)\n",
    "\n",
    "# --------------- save cleaned CSV -------------------\n",
    "df.to_csv(OUT_CSV, index=False)\n",
    "print(f\"[✓]  Saved {len(df):,} rows to {OUT_CSV.relative_to(ROOT)}\")\n"
   ]
  },
  {
   "cell_type": "code",
   "execution_count": 3,
   "id": "ff4da3ac",
   "metadata": {},
   "outputs": [
    {
     "name": "stdout",
     "output_type": "stream",
     "text": [
      "       TimeStamp    POS_X     POS_Y    POS_Z  \\\n",
      "0  1750186579775  1.14191  0.916024 -30.2011   \n",
      "1  1750186580276  2.18092  1.725050 -30.0982   \n",
      "2  1750186580771  3.33536  2.531490 -29.9403   \n",
      "3  1750186581284  4.38019  3.174380 -30.0801   \n",
      "4  1750186581770  4.41093  2.997450 -30.7159   \n",
      "\n",
      "                                     ImageFile      ROLL     PITCH       YAW  \\\n",
      "0  img_SimpleFlight__0_1750186579850130800.png  0.095935 -0.118069  0.000102   \n",
      "1  img_SimpleFlight__0_1750186580347858500.png  0.003593 -0.062322  0.008840   \n",
      "2  img_SimpleFlight__0_1750186580847827300.png  0.002255 -0.037457  0.009552   \n",
      "3  img_SimpleFlight__0_1750186581359899800.png -0.306492  0.368516 -0.045244   \n",
      "4  img_SimpleFlight__0_1750186581845470200.png -0.189929  0.232335 -0.005169   \n",
      "\n",
      "    YAW_SIN   YAW_COS       TimeSec        VEL_X        VEL_Y        VEL_Z  \n",
      "0  0.000102  1.000000  1.750187e+06  1706.641646  1366.502371  -423.383049  \n",
      "1  0.008840  0.999961  1.750187e+06  2073.872849  1614.822817   205.389280  \n",
      "2  0.009552  0.999954  1.750187e+06  2332.201813  1629.171573   318.989871  \n",
      "3 -0.045229  0.998977  1.750187e+06  2036.705859  1253.197008  -272.514647  \n",
      "4 -0.005169  0.999987  1.750187e+06    63.251032  -364.053516 -1308.230519  \n"
     ]
    }
   ],
   "source": [
    "# ------------------------------------------------------------------\n",
    "# 6. Quick sanity check (optional)\n",
    "# ------------------------------------------------------------------\n",
    "print(df.head(5))\n"
   ]
  },
  {
   "cell_type": "code",
   "execution_count": null,
   "id": "104e4bd0",
   "metadata": {},
   "outputs": [],
   "source": []
  }
 ],
 "metadata": {
  "kernelspec": {
   "display_name": "Python 3 (ipykernel)",
   "language": "python",
   "name": "python3"
  },
  "language_info": {
   "codemirror_mode": {
    "name": "ipython",
    "version": 3
   },
   "file_extension": ".py",
   "mimetype": "text/x-python",
   "name": "python",
   "nbconvert_exporter": "python",
   "pygments_lexer": "ipython3",
   "version": "3.11.4"
  }
 },
 "nbformat": 4,
 "nbformat_minor": 5
}
