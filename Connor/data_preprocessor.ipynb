{
 "cells": [
  {
   "cell_type": "code",
   "execution_count": 1,
   "id": "a79f9ecd",
   "metadata": {},
   "outputs": [],
   "source": [
    "from pathlib import Path\n",
    "import pandas as pd\n",
    "import numpy as np\n",
    "\n",
    "# paths\n",
    "dir_raw   = Path(\"raw_data\")\n",
    "file_txt  = dir_raw / \"airsim_rec.txt\"\n",
    "pcd_dir   = dir_raw / \"lidar\"      # folder with per-step LiDAR .npy files\n",
    "out_csv   = dir_raw / \"airsim_trajectory.csv\""
   ]
  },
  {
   "cell_type": "code",
   "execution_count": 2,
   "id": "1a8e1525",
   "metadata": {},
   "outputs": [],
   "source": [
    "# read tab-delimited AirSim log\n",
    "df = pd.read_csv(file_txt, sep=r\"\\t+\", engine=\"python\", comment=\"#\")\n",
    "# drop quaternion, orientation, image, and timestamp columns entirely\n",
    "df.drop(columns=[\"Q_W\",\"Q_X\",\"Q_Y\",\"Q_Z\",\"VehicleName\",\"ImageFile\",\"TimeStamp\",\"TimeSec\"], errors=\"ignore\", inplace=True)"
   ]
  },
  {
   "cell_type": "code",
   "execution_count": 3,
   "id": "109a4b36",
   "metadata": {},
   "outputs": [],
   "source": [
    "import torch\n",
    "import torch.nn as nn\n",
    "import numpy as np\n",
    "\n",
    "\n",
    "class PointNetFeat(nn.Module):\n",
    "    def __init__(self, out_dim=64):\n",
    "        super().__init__()\n",
    "        self.mlp = nn.Sequential(\n",
    "            nn.Linear(3, 64), nn.ReLU(),\n",
    "            nn.Linear(64, 128), nn.ReLU(),\n",
    "            nn.Linear(128, out_dim)\n",
    "        )\n",
    "    def forward(self, x):  # x: (B, N, 3)\n",
    "        f = self.mlp(x)        # (B, N, out_dim)\n",
    "        return f.max(dim=1).values  # (B, out_dim)\n",
    "\n",
    "# instantiate once and freeze\n",
    "pointnet = PointNetFeat(out_dim=64)\n",
    "pointnet.eval()\n",
    "for p in pointnet.parameters(): p.requires_grad = False\n",
    "\n",
    "# allocate arrays for new features\n",
    "lidar_feats = np.zeros((len(df), 64), dtype=np.float32)\n",
    "\n",
    "# iterate rows and compute per-scan embedding\n",
    "for idx in df.index:\n",
    "    pcd_file = pcd_dir / f\"pc_{idx:06d}.npy\"\n",
    "    if pcd_file.exists():\n",
    "        pts = np.load(pcd_file).astype(np.float32)  # (N,3)\n",
    "        with torch.no_grad():\n",
    "            emb = pointnet(torch.from_numpy(pts).unsqueeze(0))  # (1,64)\n",
    "        lidar_feats[idx] = emb.squeeze(0).numpy()\n",
    "    # else leave zeros\n",
    "\n",
    "# attach each of the 64 dims as separate DataFrame columns\n",
    "for i in range(64):\n",
    "    df[f\"LIDAR_F{i}\"] = lidar_feats[:, i]"
   ]
  },
  {
   "cell_type": "code",
   "execution_count": 4,
   "id": "ae3cb2c0",
   "metadata": {},
   "outputs": [
    {
     "name": "stdout",
     "output_type": "stream",
     "text": [
      "[✓] Saved 54000 rows with columns: ['POS_X', 'POS_Y', 'POS_Z', 'VEL_X', 'VEL_Y', 'VEL_Z', 'LIDAR_F0', 'LIDAR_F1', 'LIDAR_F2', 'LIDAR_F3', 'LIDAR_F4', 'LIDAR_F5', 'LIDAR_F6', 'LIDAR_F7', 'LIDAR_F8', 'LIDAR_F9', 'LIDAR_F10', 'LIDAR_F11', 'LIDAR_F12', 'LIDAR_F13', 'LIDAR_F14', 'LIDAR_F15', 'LIDAR_F16', 'LIDAR_F17', 'LIDAR_F18', 'LIDAR_F19', 'LIDAR_F20', 'LIDAR_F21', 'LIDAR_F22', 'LIDAR_F23', 'LIDAR_F24', 'LIDAR_F25', 'LIDAR_F26', 'LIDAR_F27', 'LIDAR_F28', 'LIDAR_F29', 'LIDAR_F30', 'LIDAR_F31', 'LIDAR_F32', 'LIDAR_F33', 'LIDAR_F34', 'LIDAR_F35', 'LIDAR_F36', 'LIDAR_F37', 'LIDAR_F38', 'LIDAR_F39', 'LIDAR_F40', 'LIDAR_F41', 'LIDAR_F42', 'LIDAR_F43', 'LIDAR_F44', 'LIDAR_F45', 'LIDAR_F46', 'LIDAR_F47', 'LIDAR_F48', 'LIDAR_F49', 'LIDAR_F50', 'LIDAR_F51', 'LIDAR_F52', 'LIDAR_F53', 'LIDAR_F54', 'LIDAR_F55', 'LIDAR_F56', 'LIDAR_F57', 'LIDAR_F58', 'LIDAR_F59', 'LIDAR_F60', 'LIDAR_F61', 'LIDAR_F62', 'LIDAR_F63']\n"
     ]
    }
   ],
   "source": [
    "final_cols = [\n",
    "    \"POS_X\",\"POS_Y\",\"POS_Z\",\n",
    "    \"VEL_X\",\"VEL_Y\",\"VEL_Z\"\n",
    "] + [f\"LIDAR_F{i}\" for i in range(64)]\n",
    "# sanity-check\n",
    "missing = [c for c in final_cols if c not in df.columns]\n",
    "if missing:\n",
    "    raise RuntimeError(f\"Missing columns after preprocessing: {missing}\")\n",
    "\n",
    "# save\n",
    "pd.DataFrame(df[final_cols]).to_csv(out_csv, index=False)\n",
    "print(f\"[✓] Saved {len(df)} rows with columns: {final_cols}\")"
   ]
  },
  {
   "cell_type": "code",
   "execution_count": 5,
   "id": "ff4da3ac",
   "metadata": {},
   "outputs": [
    {
     "name": "stdout",
     "output_type": "stream",
     "text": [
      "   POS_X  POS_Y      POS_Z  VEL_X  VEL_Y     VEL_Z  LIDAR_F0  LIDAR_F1  \\\n",
      "0    0.0    0.0 -29.586658    0.0    0.0 -0.004825       0.0       0.0   \n",
      "1    0.0    0.0 -29.588932    0.0    0.0 -0.011343       0.0       0.0   \n",
      "2    0.0    0.0 -29.590113    0.0    0.0 -0.012474       0.0       0.0   \n",
      "3    0.0    0.0 -29.591423    0.0    0.0 -0.013139       0.0       0.0   \n",
      "4    0.0    0.0 -29.592745    0.0    0.0 -0.013401       0.0       0.0   \n",
      "\n",
      "   LIDAR_F2  LIDAR_F3  ...  LIDAR_F54  LIDAR_F55  LIDAR_F56  LIDAR_F57  \\\n",
      "0       0.0       0.0  ...        0.0        0.0        0.0        0.0   \n",
      "1       0.0       0.0  ...        0.0        0.0        0.0        0.0   \n",
      "2       0.0       0.0  ...        0.0        0.0        0.0        0.0   \n",
      "3       0.0       0.0  ...        0.0        0.0        0.0        0.0   \n",
      "4       0.0       0.0  ...        0.0        0.0        0.0        0.0   \n",
      "\n",
      "   LIDAR_F58  LIDAR_F59  LIDAR_F60  LIDAR_F61  LIDAR_F62  LIDAR_F63  \n",
      "0        0.0        0.0        0.0        0.0        0.0        0.0  \n",
      "1        0.0        0.0        0.0        0.0        0.0        0.0  \n",
      "2        0.0        0.0        0.0        0.0        0.0        0.0  \n",
      "3        0.0        0.0        0.0        0.0        0.0        0.0  \n",
      "4        0.0        0.0        0.0        0.0        0.0        0.0  \n",
      "\n",
      "[5 rows x 70 columns]\n",
      "Columns: ['POS_X', 'POS_Y', 'POS_Z', 'VEL_X', 'VEL_Y', 'VEL_Z', 'LIDAR_F0', 'LIDAR_F1', 'LIDAR_F2', 'LIDAR_F3', 'LIDAR_F4', 'LIDAR_F5', 'LIDAR_F6', 'LIDAR_F7', 'LIDAR_F8', 'LIDAR_F9', 'LIDAR_F10', 'LIDAR_F11', 'LIDAR_F12', 'LIDAR_F13', 'LIDAR_F14', 'LIDAR_F15', 'LIDAR_F16', 'LIDAR_F17', 'LIDAR_F18', 'LIDAR_F19', 'LIDAR_F20', 'LIDAR_F21', 'LIDAR_F22', 'LIDAR_F23', 'LIDAR_F24', 'LIDAR_F25', 'LIDAR_F26', 'LIDAR_F27', 'LIDAR_F28', 'LIDAR_F29', 'LIDAR_F30', 'LIDAR_F31', 'LIDAR_F32', 'LIDAR_F33', 'LIDAR_F34', 'LIDAR_F35', 'LIDAR_F36', 'LIDAR_F37', 'LIDAR_F38', 'LIDAR_F39', 'LIDAR_F40', 'LIDAR_F41', 'LIDAR_F42', 'LIDAR_F43', 'LIDAR_F44', 'LIDAR_F45', 'LIDAR_F46', 'LIDAR_F47', 'LIDAR_F48', 'LIDAR_F49', 'LIDAR_F50', 'LIDAR_F51', 'LIDAR_F52', 'LIDAR_F53', 'LIDAR_F54', 'LIDAR_F55', 'LIDAR_F56', 'LIDAR_F57', 'LIDAR_F58', 'LIDAR_F59', 'LIDAR_F60', 'LIDAR_F61', 'LIDAR_F62', 'LIDAR_F63']\n"
     ]
    }
   ],
   "source": [
    "print(pd.read_csv(out_csv).head())\n",
    "print(\"Columns:\", pd.read_csv(out_csv).columns.tolist())"
   ]
  },
  {
   "cell_type": "code",
   "execution_count": null,
   "id": "104e4bd0",
   "metadata": {},
   "outputs": [],
   "source": []
  }
 ],
 "metadata": {
  "kernelspec": {
   "display_name": "AirEnv",
   "language": "python",
   "name": "python3"
  },
  "language_info": {
   "codemirror_mode": {
    "name": "ipython",
    "version": 3
   },
   "file_extension": ".py",
   "mimetype": "text/x-python",
   "name": "python",
   "nbconvert_exporter": "python",
   "pygments_lexer": "ipython3",
   "version": "3.11.4"
  }
 },
 "nbformat": 4,
 "nbformat_minor": 5
}
