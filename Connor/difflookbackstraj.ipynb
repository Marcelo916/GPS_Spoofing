{
 "cells": [
  {
   "cell_type": "code",
   "execution_count": 1,
   "id": "3cfad596",
   "metadata": {},
   "outputs": [],
   "source": [
    "import pandas as pd\n",
    "import numpy as np\n",
    "import torch, torch.nn as nn\n",
    "from torch.utils.data import Dataset, DataLoader\n",
    "from sklearn.model_selection import train_test_split\n",
    "import matplotlib.pyplot as plt\n",
    "from mpl_toolkits.mplot3d import Axes3D\n",
    "from tqdm import tqdm"
   ]
  },
  {
   "cell_type": "markdown",
   "id": "ec3f81b0",
   "metadata": {},
   "source": [
    "### Load CSV"
   ]
  },
  {
   "cell_type": "code",
   "execution_count": 2,
   "id": "37ea073f",
   "metadata": {},
   "outputs": [
    {
     "name": "stdout",
     "output_type": "stream",
     "text": [
      "Check normalized data ranges:\n",
      "        POS_X     POS_Y     POS_Z\n",
      "min -0.746205 -3.076668 -2.947978\n",
      "max  2.476621  3.165231  3.240051\n",
      "        VEL_X     VEL_Y     VEL_Z\n",
      "min -4.384539 -7.333667 -8.394185\n",
      "max  2.925155  7.312655  8.034394\n",
      "Data shape: (54000, 6)\n",
      "      POS_X     POS_Y     POS_Z     VEL_X     VEL_Y     VEL_Z\n",
      "0 -0.706379  0.000168  0.446241 -0.706325  0.004531  0.058994\n",
      "1 -0.706379  0.000168  0.445696 -0.706325  0.004531  0.050795\n",
      "2 -0.706379  0.000168  0.445063 -0.706325  0.004531  0.045458\n",
      "3 -0.706379  0.000168  0.444338 -0.706325  0.004531  0.042052\n",
      "4 -0.706379  0.000168  0.443594 -0.706325  0.004531  0.040324\n"
     ]
    }
   ],
   "source": [
    "# data loading & normalization\n",
    "\n",
    "\n",
    "CSV_PATH = \"raw_data/airsim_trajectory.csv\"\n",
    "DF = pd.read_csv(CSV_PATH)\n",
    "\n",
    "pos_cols = [\"POS_X\", \"POS_Y\", \"POS_Z\"]\n",
    "vel_cols = [\"VEL_X\", \"VEL_Y\", \"VEL_Z\"]\n",
    "keep = pos_cols + vel_cols\n",
    "\n",
    "df = DF[keep].dropna().reset_index(drop=True)\n",
    "\n",
    "# compute means/stds\n",
    "pos_mean, pos_std = df[pos_cols].mean().to_numpy(), df[pos_cols].std().to_numpy()\n",
    "vel_mean, vel_std = df[vel_cols].mean().to_numpy(), df[vel_cols].std().to_numpy()\n",
    "\n",
    "# normalize\n",
    "df[pos_cols] = (df[pos_cols] - pos_mean) / pos_std\n",
    "df[vel_cols] = (df[vel_cols] - vel_mean) / vel_std\n",
    "# right after loading & normalizing:\n",
    "print(\"Check normalized data ranges:\")\n",
    "print(df[pos_cols].describe().loc[['min','max']])\n",
    "print(df[vel_cols].describe().loc[['min','max']])\n",
    "\n",
    "\n",
    "norm_params = dict(pos_mean=pos_mean, pos_std=pos_std, vel_mean=vel_mean, vel_std=vel_std)\n",
    "\n",
    "print(f\"Data shape: {df.shape}\")\n",
    "print(df.head())\n"
   ]
  },
  {
   "cell_type": "markdown",
   "id": "dea0eb51",
   "metadata": {},
   "source": [
    "### Sliding‑window dataset\n"
   ]
  },
  {
   "cell_type": "code",
   "execution_count": null,
   "id": "77c6fad5",
   "metadata": {},
   "outputs": [
    {
     "name": "stdout",
     "output_type": "stream",
     "text": [
      "▶️ Dataset ranges are now stable each epoch\n"
     ]
    }
   ],
   "source": [
    "import numpy as np\n",
    "import torch\n",
    "from torch.utils.data import Dataset, DataLoader, random_split\n",
    "\n",
    "# 10 Hz → 1 s history & 1 s future\n",
    "sample_interval = 0.1\n",
    "PAST_STEPS   = int(5.0 / sample_interval)  # = 10\n",
    "FUTURE_STEPS = int(1.5 / sample_interval)  # = 10\n",
    "\n",
    "class TrajDataset(Dataset):\n",
    "    def __init__(self, df, feature_cols):\n",
    "        \"\"\"\n",
    "        df           : pandas DataFrame containing normalized features\n",
    "        feature_cols : list of 6 column names in order:\n",
    "                       [\"POS_X\",\"POS_Y\",\"POS_Z\",\"VEL_X\",\"VEL_Y\",\"VEL_Z\"]\n",
    "        \"\"\"\n",
    "        # grab the whole normalized matrix once\n",
    "        self.full = df[feature_cols].values.astype(np.float32)  # shape (N,6)\n",
    "        self.N    = len(self.full) - (PAST_STEPS + FUTURE_STEPS)\n",
    "        if self.N <= 0:\n",
    "            raise ValueError(\n",
    "                f\"Not enough data (need ≥{PAST_STEPS+FUTURE_STEPS+1} rows)\"\n",
    "            )\n",
    "\n",
    "    def __len__(self):\n",
    "        return self.N\n",
    "\n",
    "    def __getitem__(self, idx):\n",
    "        past_window = self.full[idx : idx + PAST_STEPS].copy()                   \n",
    "        fut_window  = self.full[\n",
    "            idx + PAST_STEPS : idx + PAST_STEPS + FUTURE_STEPS, :3\n",
    "        ].copy()                                                                \n",
    "\n",
    "        origin_pos = past_window[0, :3].copy()[None]  \n",
    "        past_window[:, :3] -= origin_pos\n",
    "        fut_window [:, :3] -= origin_pos\n",
    "\n",
    "        noise_scale = np.clip(past_window.std(axis=0) * 0.1, 0.01, 0.1)\n",
    "        past_window += np.random.normal(scale=noise_scale, size=past_window.shape).astype(np.float32)\n",
    "\n",
    "        return torch.from_numpy(past_window), torch.from_numpy(fut_window)\n",
    "\n",
    "feature_cols = [\"POS_X\",\"POS_Y\",\"POS_Z\",\"VEL_X\",\"VEL_Y\",\"VEL_Z\"]\n",
    "required     = PAST_STEPS + FUTURE_STEPS\n",
    "test_size    = max(required + 1, int(0.2 * len(df)))\n",
    "train_val_df = df[:-test_size].reset_index(drop=True)\n",
    "test_df      = df[-test_size:].reset_index(drop=True)\n",
    "\n",
    "val_len   = int(0.15 * len(train_val_df))\n",
    "train_len = len(train_val_df) - val_len\n",
    "train_idx, val_idx = random_split(\n",
    "    train_val_df, [train_len, val_len], generator=torch.Generator().manual_seed(42)\n",
    ")\n",
    "train_df = train_val_df.iloc[train_idx.indices].reset_index(drop=True)\n",
    "val_df   = train_val_df.iloc[val_idx.indices].reset_index(drop=True)\n",
    "\n",
    "train_ds = TrajDataset(train_df, feature_cols)\n",
    "val_ds   = TrajDataset(val_df,   feature_cols)\n",
    "test_ds  = TrajDataset(test_df,  feature_cols)\n",
    "\n",
    "train_dl = DataLoader(train_ds, batch_size=32, shuffle=True)\n",
    "val_dl   = DataLoader(val_ds,   batch_size=32, shuffle=False)\n",
    "test_dl  = DataLoader(test_ds,  batch_size=32, shuffle=False)\n",
    "\n",
    "print(\"▶️ Dataset ranges are now stable each epoch\")\n"
   ]
  },
  {
   "cell_type": "markdown",
   "id": "6032d0b2",
   "metadata": {},
   "source": [
    "### Transformer model"
   ]
  },
  {
   "cell_type": "code",
   "execution_count": 4,
   "id": "87c4e22d",
   "metadata": {},
   "outputs": [],
   "source": [
    "import torch\n",
    "import torch.nn as nn\n",
    "\n",
    "class Seq2SeqTransformer(nn.Module):\n",
    "    def __init__(self, \n",
    "                 input_dim=6, \n",
    "                 d_model=128, \n",
    "                 nhead=4, \n",
    "                 num_encoder_layers=3, \n",
    "                 num_decoder_layers=3,\n",
    "                 dim_feedforward=512, \n",
    "                 dropout=0.1):\n",
    "        super().__init__()\n",
    "        self.d_model = d_model\n",
    "\n",
    "        # positional vectors (for learning order of data)\n",
    "        self.pos_enc = nn.Parameter(torch.randn(1, PAST_STEPS, d_model) * 0.02)\n",
    "        self.pos_dec = nn.Parameter(torch.randn(1, FUTURE_STEPS, d_model) * 0.02)\n",
    "\n",
    "        # input projections to turn 6D data into 128 dimensional vectors\n",
    "        self.src_proj = nn.Linear(input_dim, d_model)\n",
    "        self.tgt_proj = nn.Linear(3, d_model)  # decoder input only needs XYZ\n",
    "\n",
    "        # transformer encoder / decoder stacks\n",
    "        encoder_layer = nn.TransformerEncoderLayer(\n",
    "            d_model=d_model, \n",
    "            nhead=nhead, \n",
    "            dim_feedforward=dim_feedforward, \n",
    "            dropout=dropout, \n",
    "            batch_first=True\n",
    "        )\n",
    "        decoder_layer = nn.TransformerDecoderLayer(\n",
    "            d_model=d_model, \n",
    "            nhead=nhead, \n",
    "            dim_feedforward=dim_feedforward, \n",
    "            dropout=dropout, \n",
    "            batch_first=True\n",
    "        )\n",
    "        self.encoder = nn.TransformerEncoder(encoder_layer, num_encoder_layers)\n",
    "        self.decoder = nn.TransformerDecoder(decoder_layer, num_decoder_layers)\n",
    "\n",
    "        # final projection back to XYZ\n",
    "        self.output = nn.Linear(d_model, 3)\n",
    "    \n",
    "\n",
    "    def forward(self, src, tgt):\n",
    "        \"\"\"\n",
    "        src: (B, PAST_STEPS, 6)   -- 6 features: 3 pos + 3 vel (which is our history windows)\n",
    "        tgt: (B, FUTURE_STEPS, 3) -- teacher-forced past XYZ during training (batch of ground truth future pos during training)\n",
    "        returns: (B, FUTURE_STEPS, 3)\n",
    "        \"\"\"\n",
    "        # Encoder\n",
    "        # project and scale (6d to 128d)\n",
    "        src_emb = self.src_proj(src) * torch.sqrt(torch.tensor(self.d_model, device=src.device))\n",
    "        # add positional encoding (learning the order of data)\n",
    "        src_emb = src_emb + self.pos_enc\n",
    "        # run through encoder stack\n",
    "        memory = self.encoder(src_emb)\n",
    "\n",
    "        # Decoder \n",
    "        # project decoder inputs\n",
    "        tgt_emb = self.tgt_proj(tgt)\n",
    "        # add decoder positional encoding\n",
    "        tgt_emb = tgt_emb + self.pos_dec\n",
    "        # run through decoder, attending over encoder memory\n",
    "        out = self.decoder(tgt_emb, memory)\n",
    "\n",
    "        # final linear layer back to 3D coordinates\n",
    "        return self.output(out)\n"
   ]
  },
  {
   "cell_type": "markdown",
   "id": "00300431",
   "metadata": {},
   "source": [
    "### Training loop\n"
   ]
  },
  {
   "cell_type": "code",
   "execution_count": 5,
   "id": "8d195c64",
   "metadata": {},
   "outputs": [
    {
     "name": "stderr",
     "output_type": "stream",
     "text": [
      "Epoch 1/100: 100%|██████████| 1146/1146 [02:56<00:00,  6.51it/s]\n"
     ]
    },
    {
     "name": "stdout",
     "output_type": "stream",
     "text": [
      "Epoch 1: Train RMSE=0.1706 | Val RMSE=0.0225\n",
      "✅ Saved new best model.\n"
     ]
    },
    {
     "name": "stderr",
     "output_type": "stream",
     "text": [
      "Epoch 2/100: 100%|██████████| 1146/1146 [2:09:31<00:00,  6.78s/it]     \n"
     ]
    },
    {
     "name": "stdout",
     "output_type": "stream",
     "text": [
      "Epoch 2: Train RMSE=0.0580 | Val RMSE=0.0156\n",
      "✅ Saved new best model.\n"
     ]
    },
    {
     "name": "stderr",
     "output_type": "stream",
     "text": [
      "Epoch 3/100: 100%|██████████| 1146/1146 [04:06<00:00,  4.65it/s]\n"
     ]
    },
    {
     "name": "stdout",
     "output_type": "stream",
     "text": [
      "Epoch 3: Train RMSE=0.0435 | Val RMSE=0.0268\n"
     ]
    },
    {
     "name": "stderr",
     "output_type": "stream",
     "text": [
      "Epoch 4/100: 100%|██████████| 1146/1146 [03:54<00:00,  4.88it/s]\n"
     ]
    },
    {
     "name": "stdout",
     "output_type": "stream",
     "text": [
      "Epoch 4: Train RMSE=0.0354 | Val RMSE=0.0187\n"
     ]
    },
    {
     "name": "stderr",
     "output_type": "stream",
     "text": [
      "Epoch 5/100: 100%|██████████| 1146/1146 [02:34<00:00,  7.43it/s]\n"
     ]
    },
    {
     "name": "stdout",
     "output_type": "stream",
     "text": [
      "Epoch 5: Train RMSE=0.0304 | Val RMSE=0.0094\n",
      "✅ Saved new best model.\n"
     ]
    },
    {
     "name": "stderr",
     "output_type": "stream",
     "text": [
      "Epoch 6/100: 100%|██████████| 1146/1146 [03:41<00:00,  5.18it/s]\n"
     ]
    },
    {
     "name": "stdout",
     "output_type": "stream",
     "text": [
      "Epoch 6: Train RMSE=0.0266 | Val RMSE=0.0120\n"
     ]
    },
    {
     "name": "stderr",
     "output_type": "stream",
     "text": [
      "Epoch 7/100: 100%|██████████| 1146/1146 [04:33<00:00,  4.19it/s]\n"
     ]
    },
    {
     "name": "stdout",
     "output_type": "stream",
     "text": [
      "Epoch 7: Train RMSE=0.0243 | Val RMSE=0.0142\n"
     ]
    },
    {
     "name": "stderr",
     "output_type": "stream",
     "text": [
      "Epoch 8/100: 100%|██████████| 1146/1146 [04:46<00:00,  4.00it/s]\n"
     ]
    },
    {
     "name": "stdout",
     "output_type": "stream",
     "text": [
      "Epoch 8: Train RMSE=0.0216 | Val RMSE=0.0113\n"
     ]
    },
    {
     "name": "stderr",
     "output_type": "stream",
     "text": [
      "Epoch 9/100: 100%|██████████| 1146/1146 [05:01<00:00,  3.81it/s]\n"
     ]
    },
    {
     "name": "stdout",
     "output_type": "stream",
     "text": [
      "Epoch 9: Train RMSE=0.0199 | Val RMSE=0.0129\n"
     ]
    },
    {
     "name": "stderr",
     "output_type": "stream",
     "text": [
      "Epoch 10/100: 100%|██████████| 1146/1146 [04:53<00:00,  3.91it/s]\n"
     ]
    },
    {
     "name": "stdout",
     "output_type": "stream",
     "text": [
      "Epoch 10: Train RMSE=0.0166 | Val RMSE=0.0104\n"
     ]
    },
    {
     "name": "stderr",
     "output_type": "stream",
     "text": [
      "Epoch 11/100: 100%|██████████| 1146/1146 [03:02<00:00,  6.29it/s]\n"
     ]
    },
    {
     "name": "stdout",
     "output_type": "stream",
     "text": [
      "Epoch 11: Train RMSE=0.0160 | Val RMSE=0.0060\n",
      "✅ Saved new best model.\n"
     ]
    },
    {
     "name": "stderr",
     "output_type": "stream",
     "text": [
      "Epoch 12/100: 100%|██████████| 1146/1146 [02:40<00:00,  7.14it/s]\n"
     ]
    },
    {
     "name": "stdout",
     "output_type": "stream",
     "text": [
      "Epoch 12: Train RMSE=0.0151 | Val RMSE=0.0086\n"
     ]
    },
    {
     "name": "stderr",
     "output_type": "stream",
     "text": [
      "Epoch 13/100: 100%|██████████| 1146/1146 [03:16<00:00,  5.84it/s]\n"
     ]
    },
    {
     "name": "stdout",
     "output_type": "stream",
     "text": [
      "Epoch 13: Train RMSE=0.0143 | Val RMSE=0.0064\n"
     ]
    },
    {
     "name": "stderr",
     "output_type": "stream",
     "text": [
      "Epoch 14/100: 100%|██████████| 1146/1146 [04:50<00:00,  3.95it/s]\n"
     ]
    },
    {
     "name": "stdout",
     "output_type": "stream",
     "text": [
      "Epoch 14: Train RMSE=0.0136 | Val RMSE=0.0089\n"
     ]
    },
    {
     "name": "stderr",
     "output_type": "stream",
     "text": [
      "Epoch 15/100: 100%|██████████| 1146/1146 [05:08<00:00,  3.71it/s]\n"
     ]
    },
    {
     "name": "stdout",
     "output_type": "stream",
     "text": [
      "Epoch 15: Train RMSE=0.0130 | Val RMSE=0.0058\n",
      "✅ Saved new best model.\n"
     ]
    },
    {
     "name": "stderr",
     "output_type": "stream",
     "text": [
      "Epoch 16/100: 100%|██████████| 1146/1146 [04:59<00:00,  3.83it/s]\n"
     ]
    },
    {
     "name": "stdout",
     "output_type": "stream",
     "text": [
      "Epoch 16: Train RMSE=0.0123 | Val RMSE=0.0056\n",
      "✅ Saved new best model.\n"
     ]
    },
    {
     "name": "stderr",
     "output_type": "stream",
     "text": [
      "Epoch 17/100: 100%|██████████| 1146/1146 [04:53<00:00,  3.91it/s]\n"
     ]
    },
    {
     "name": "stdout",
     "output_type": "stream",
     "text": [
      "Epoch 17: Train RMSE=0.0118 | Val RMSE=0.0058\n"
     ]
    },
    {
     "name": "stderr",
     "output_type": "stream",
     "text": [
      "Epoch 18/100: 100%|██████████| 1146/1146 [03:21<00:00,  5.68it/s]\n"
     ]
    },
    {
     "name": "stdout",
     "output_type": "stream",
     "text": [
      "Epoch 18: Train RMSE=0.0113 | Val RMSE=0.0079\n"
     ]
    },
    {
     "name": "stderr",
     "output_type": "stream",
     "text": [
      "Epoch 19/100: 100%|██████████| 1146/1146 [02:41<00:00,  7.09it/s]\n"
     ]
    },
    {
     "name": "stdout",
     "output_type": "stream",
     "text": [
      "Epoch 19: Train RMSE=0.0109 | Val RMSE=0.0052\n",
      "✅ Saved new best model.\n"
     ]
    },
    {
     "name": "stderr",
     "output_type": "stream",
     "text": [
      "Epoch 20/100: 100%|██████████| 1146/1146 [02:43<00:00,  7.03it/s]\n"
     ]
    },
    {
     "name": "stdout",
     "output_type": "stream",
     "text": [
      "Epoch 20: Train RMSE=0.0103 | Val RMSE=0.0042\n",
      "✅ Saved new best model.\n"
     ]
    },
    {
     "name": "stderr",
     "output_type": "stream",
     "text": [
      "Epoch 21/100: 100%|██████████| 1146/1146 [02:41<00:00,  7.12it/s]\n"
     ]
    },
    {
     "name": "stdout",
     "output_type": "stream",
     "text": [
      "Epoch 21: Train RMSE=0.0099 | Val RMSE=0.0042\n"
     ]
    },
    {
     "name": "stderr",
     "output_type": "stream",
     "text": [
      "Epoch 22/100: 100%|██████████| 1146/1146 [02:41<00:00,  7.09it/s]\n"
     ]
    },
    {
     "name": "stdout",
     "output_type": "stream",
     "text": [
      "Epoch 22: Train RMSE=0.0096 | Val RMSE=0.0042\n",
      "✅ Saved new best model.\n"
     ]
    },
    {
     "name": "stderr",
     "output_type": "stream",
     "text": [
      "Epoch 23/100: 100%|██████████| 1146/1146 [02:43<00:00,  7.00it/s]\n"
     ]
    },
    {
     "name": "stdout",
     "output_type": "stream",
     "text": [
      "Epoch 23: Train RMSE=0.0091 | Val RMSE=0.0030\n",
      "✅ Saved new best model.\n"
     ]
    },
    {
     "name": "stderr",
     "output_type": "stream",
     "text": [
      "Epoch 24/100: 100%|██████████| 1146/1146 [02:40<00:00,  7.13it/s]\n"
     ]
    },
    {
     "name": "stdout",
     "output_type": "stream",
     "text": [
      "Epoch 24: Train RMSE=0.0088 | Val RMSE=0.0045\n"
     ]
    },
    {
     "name": "stderr",
     "output_type": "stream",
     "text": [
      "Epoch 25/100: 100%|██████████| 1146/1146 [02:41<00:00,  7.10it/s]\n"
     ]
    },
    {
     "name": "stdout",
     "output_type": "stream",
     "text": [
      "Epoch 25: Train RMSE=0.0085 | Val RMSE=0.0038\n"
     ]
    },
    {
     "name": "stderr",
     "output_type": "stream",
     "text": [
      "Epoch 26/100: 100%|██████████| 1146/1146 [02:41<00:00,  7.08it/s]\n"
     ]
    },
    {
     "name": "stdout",
     "output_type": "stream",
     "text": [
      "Epoch 26: Train RMSE=0.0082 | Val RMSE=0.0046\n"
     ]
    },
    {
     "name": "stderr",
     "output_type": "stream",
     "text": [
      "Epoch 27/100: 100%|██████████| 1146/1146 [02:43<00:00,  7.02it/s]\n"
     ]
    },
    {
     "name": "stdout",
     "output_type": "stream",
     "text": [
      "Epoch 27: Train RMSE=0.0080 | Val RMSE=0.0034\n"
     ]
    },
    {
     "name": "stderr",
     "output_type": "stream",
     "text": [
      "Epoch 28/100: 100%|██████████| 1146/1146 [02:43<00:00,  7.03it/s]\n"
     ]
    },
    {
     "name": "stdout",
     "output_type": "stream",
     "text": [
      "Epoch 28: Train RMSE=0.0069 | Val RMSE=0.0031\n"
     ]
    },
    {
     "name": "stderr",
     "output_type": "stream",
     "text": [
      "Epoch 29/100: 100%|██████████| 1146/1146 [02:44<00:00,  6.98it/s]\n"
     ]
    },
    {
     "name": "stdout",
     "output_type": "stream",
     "text": [
      "Epoch 29: Train RMSE=0.0069 | Val RMSE=0.0039\n"
     ]
    },
    {
     "name": "stderr",
     "output_type": "stream",
     "text": [
      "Epoch 30/100: 100%|██████████| 1146/1146 [02:45<00:00,  6.93it/s]\n"
     ]
    },
    {
     "name": "stdout",
     "output_type": "stream",
     "text": [
      "Epoch 30: Train RMSE=0.0067 | Val RMSE=0.0040\n"
     ]
    },
    {
     "name": "stderr",
     "output_type": "stream",
     "text": [
      "Epoch 31/100: 100%|██████████| 1146/1146 [02:43<00:00,  7.00it/s]\n"
     ]
    },
    {
     "name": "stdout",
     "output_type": "stream",
     "text": [
      "Epoch 31: Train RMSE=0.0065 | Val RMSE=0.0031\n"
     ]
    },
    {
     "name": "stderr",
     "output_type": "stream",
     "text": [
      "Epoch 32/100: 100%|██████████| 1146/1146 [02:44<00:00,  6.97it/s]\n"
     ]
    },
    {
     "name": "stdout",
     "output_type": "stream",
     "text": [
      "Epoch 32: Train RMSE=0.0060 | Val RMSE=0.0023\n",
      "✅ Saved new best model.\n"
     ]
    },
    {
     "name": "stderr",
     "output_type": "stream",
     "text": [
      "Epoch 33/100: 100%|██████████| 1146/1146 [02:44<00:00,  6.96it/s]\n"
     ]
    },
    {
     "name": "stdout",
     "output_type": "stream",
     "text": [
      "Epoch 33: Train RMSE=0.0060 | Val RMSE=0.0020\n",
      "✅ Saved new best model.\n"
     ]
    },
    {
     "name": "stderr",
     "output_type": "stream",
     "text": [
      "Epoch 34/100: 100%|██████████| 1146/1146 [02:52<00:00,  6.64it/s]\n"
     ]
    },
    {
     "name": "stdout",
     "output_type": "stream",
     "text": [
      "Epoch 34: Train RMSE=0.0059 | Val RMSE=0.0017\n",
      "✅ Saved new best model.\n"
     ]
    },
    {
     "name": "stderr",
     "output_type": "stream",
     "text": [
      "Epoch 35/100: 100%|██████████| 1146/1146 [02:48<00:00,  6.80it/s]\n"
     ]
    },
    {
     "name": "stdout",
     "output_type": "stream",
     "text": [
      "Epoch 35: Train RMSE=0.0058 | Val RMSE=0.0026\n"
     ]
    },
    {
     "name": "stderr",
     "output_type": "stream",
     "text": [
      "Epoch 36/100: 100%|██████████| 1146/1146 [02:43<00:00,  6.99it/s]\n"
     ]
    },
    {
     "name": "stdout",
     "output_type": "stream",
     "text": [
      "Epoch 36: Train RMSE=0.0057 | Val RMSE=0.0020\n"
     ]
    },
    {
     "name": "stderr",
     "output_type": "stream",
     "text": [
      "Epoch 37/100: 100%|██████████| 1146/1146 [02:44<00:00,  6.97it/s]\n"
     ]
    },
    {
     "name": "stdout",
     "output_type": "stream",
     "text": [
      "Epoch 37: Train RMSE=0.0056 | Val RMSE=0.0020\n"
     ]
    },
    {
     "name": "stderr",
     "output_type": "stream",
     "text": [
      "Epoch 38/100: 100%|██████████| 1146/1146 [02:44<00:00,  6.96it/s]\n"
     ]
    },
    {
     "name": "stdout",
     "output_type": "stream",
     "text": [
      "Epoch 38: Train RMSE=0.0055 | Val RMSE=0.0019\n"
     ]
    },
    {
     "name": "stderr",
     "output_type": "stream",
     "text": [
      "Epoch 39/100: 100%|██████████| 1146/1146 [02:44<00:00,  6.97it/s]\n"
     ]
    },
    {
     "name": "stdout",
     "output_type": "stream",
     "text": [
      "Epoch 39: Train RMSE=0.0053 | Val RMSE=0.0021\n"
     ]
    },
    {
     "name": "stderr",
     "output_type": "stream",
     "text": [
      "Epoch 40/100: 100%|██████████| 1146/1146 [02:44<00:00,  6.98it/s]\n"
     ]
    },
    {
     "name": "stdout",
     "output_type": "stream",
     "text": [
      "Epoch 40: Train RMSE=0.0053 | Val RMSE=0.0016\n",
      "✅ Saved new best model.\n"
     ]
    },
    {
     "name": "stderr",
     "output_type": "stream",
     "text": [
      "Epoch 41/100: 100%|██████████| 1146/1146 [02:44<00:00,  6.99it/s]\n"
     ]
    },
    {
     "name": "stdout",
     "output_type": "stream",
     "text": [
      "Epoch 41: Train RMSE=0.0053 | Val RMSE=0.0016\n",
      "✅ Saved new best model.\n"
     ]
    },
    {
     "name": "stderr",
     "output_type": "stream",
     "text": [
      "Epoch 42/100: 100%|██████████| 1146/1146 [02:44<00:00,  6.96it/s]\n"
     ]
    },
    {
     "name": "stdout",
     "output_type": "stream",
     "text": [
      "Epoch 42: Train RMSE=0.0052 | Val RMSE=0.0022\n"
     ]
    },
    {
     "name": "stderr",
     "output_type": "stream",
     "text": [
      "Epoch 43/100: 100%|██████████| 1146/1146 [02:44<00:00,  6.97it/s]\n"
     ]
    },
    {
     "name": "stdout",
     "output_type": "stream",
     "text": [
      "Epoch 43: Train RMSE=0.0051 | Val RMSE=0.0019\n"
     ]
    },
    {
     "name": "stderr",
     "output_type": "stream",
     "text": [
      "Epoch 44/100: 100%|██████████| 1146/1146 [02:44<00:00,  6.98it/s]\n"
     ]
    },
    {
     "name": "stdout",
     "output_type": "stream",
     "text": [
      "Epoch 44: Train RMSE=0.0051 | Val RMSE=0.0016\n",
      "✅ Saved new best model.\n"
     ]
    },
    {
     "name": "stderr",
     "output_type": "stream",
     "text": [
      "Epoch 45/100: 100%|██████████| 1146/1146 [02:43<00:00,  6.99it/s]\n"
     ]
    },
    {
     "name": "stdout",
     "output_type": "stream",
     "text": [
      "Epoch 45: Train RMSE=0.0050 | Val RMSE=0.0015\n",
      "✅ Saved new best model.\n"
     ]
    },
    {
     "name": "stderr",
     "output_type": "stream",
     "text": [
      "Epoch 46/100: 100%|██████████| 1146/1146 [02:45<00:00,  6.92it/s]\n"
     ]
    },
    {
     "name": "stdout",
     "output_type": "stream",
     "text": [
      "Epoch 46: Train RMSE=0.0050 | Val RMSE=0.0017\n"
     ]
    },
    {
     "name": "stderr",
     "output_type": "stream",
     "text": [
      "Epoch 47/100: 100%|██████████| 1146/1146 [02:44<00:00,  6.96it/s]\n"
     ]
    },
    {
     "name": "stdout",
     "output_type": "stream",
     "text": [
      "Epoch 47: Train RMSE=0.0050 | Val RMSE=0.0014\n",
      "✅ Saved new best model.\n"
     ]
    },
    {
     "name": "stderr",
     "output_type": "stream",
     "text": [
      "Epoch 48/100: 100%|██████████| 1146/1146 [02:44<00:00,  6.95it/s]\n"
     ]
    },
    {
     "name": "stdout",
     "output_type": "stream",
     "text": [
      "Epoch 48: Train RMSE=0.0049 | Val RMSE=0.0017\n"
     ]
    },
    {
     "name": "stderr",
     "output_type": "stream",
     "text": [
      "Epoch 49/100: 100%|██████████| 1146/1146 [02:44<00:00,  6.96it/s]\n"
     ]
    },
    {
     "name": "stdout",
     "output_type": "stream",
     "text": [
      "Epoch 49: Train RMSE=0.0049 | Val RMSE=0.0020\n"
     ]
    },
    {
     "name": "stderr",
     "output_type": "stream",
     "text": [
      "Epoch 50/100: 100%|██████████| 1146/1146 [02:44<00:00,  6.95it/s]\n"
     ]
    },
    {
     "name": "stdout",
     "output_type": "stream",
     "text": [
      "Epoch 50: Train RMSE=0.0048 | Val RMSE=0.0013\n",
      "✅ Saved new best model.\n"
     ]
    },
    {
     "name": "stderr",
     "output_type": "stream",
     "text": [
      "Epoch 51/100: 100%|██████████| 1146/1146 [02:45<00:00,  6.94it/s]\n"
     ]
    },
    {
     "name": "stdout",
     "output_type": "stream",
     "text": [
      "Epoch 51: Train RMSE=0.0048 | Val RMSE=0.0018\n"
     ]
    },
    {
     "name": "stderr",
     "output_type": "stream",
     "text": [
      "Epoch 52/100: 100%|██████████| 1146/1146 [02:44<00:00,  6.95it/s]\n"
     ]
    },
    {
     "name": "stdout",
     "output_type": "stream",
     "text": [
      "Epoch 52: Train RMSE=0.0048 | Val RMSE=0.0014\n"
     ]
    },
    {
     "name": "stderr",
     "output_type": "stream",
     "text": [
      "Epoch 53/100: 100%|██████████| 1146/1146 [02:45<00:00,  6.93it/s]\n"
     ]
    },
    {
     "name": "stdout",
     "output_type": "stream",
     "text": [
      "Epoch 53: Train RMSE=0.0047 | Val RMSE=0.0017\n"
     ]
    },
    {
     "name": "stderr",
     "output_type": "stream",
     "text": [
      "Epoch 54/100: 100%|██████████| 1146/1146 [02:44<00:00,  6.96it/s]\n"
     ]
    },
    {
     "name": "stdout",
     "output_type": "stream",
     "text": [
      "Epoch 54: Train RMSE=0.0047 | Val RMSE=0.0014\n"
     ]
    },
    {
     "name": "stderr",
     "output_type": "stream",
     "text": [
      "Epoch 55/100: 100%|██████████| 1146/1146 [02:44<00:00,  6.95it/s]\n"
     ]
    },
    {
     "name": "stdout",
     "output_type": "stream",
     "text": [
      "Epoch 55: Train RMSE=0.0046 | Val RMSE=0.0013\n"
     ]
    },
    {
     "name": "stderr",
     "output_type": "stream",
     "text": [
      "Epoch 56/100: 100%|██████████| 1146/1146 [02:46<00:00,  6.89it/s]\n"
     ]
    },
    {
     "name": "stdout",
     "output_type": "stream",
     "text": [
      "Epoch 56: Train RMSE=0.0046 | Val RMSE=0.0013\n",
      "✅ Saved new best model.\n"
     ]
    },
    {
     "name": "stderr",
     "output_type": "stream",
     "text": [
      "Epoch 57/100: 100%|██████████| 1146/1146 [02:47<00:00,  6.85it/s]\n"
     ]
    },
    {
     "name": "stdout",
     "output_type": "stream",
     "text": [
      "Epoch 57: Train RMSE=0.0045 | Val RMSE=0.0013\n",
      "✅ Saved new best model.\n"
     ]
    },
    {
     "name": "stderr",
     "output_type": "stream",
     "text": [
      "Epoch 58/100: 100%|██████████| 1146/1146 [02:45<00:00,  6.94it/s]\n"
     ]
    },
    {
     "name": "stdout",
     "output_type": "stream",
     "text": [
      "Epoch 58: Train RMSE=0.0045 | Val RMSE=0.0014\n"
     ]
    },
    {
     "name": "stderr",
     "output_type": "stream",
     "text": [
      "Epoch 59/100: 100%|██████████| 1146/1146 [02:45<00:00,  6.95it/s]\n"
     ]
    },
    {
     "name": "stdout",
     "output_type": "stream",
     "text": [
      "Epoch 59: Train RMSE=0.0045 | Val RMSE=0.0013\n"
     ]
    },
    {
     "name": "stderr",
     "output_type": "stream",
     "text": [
      "Epoch 60/100: 100%|██████████| 1146/1146 [02:45<00:00,  6.93it/s]\n"
     ]
    },
    {
     "name": "stdout",
     "output_type": "stream",
     "text": [
      "Epoch 60: Train RMSE=0.0045 | Val RMSE=0.0015\n"
     ]
    },
    {
     "name": "stderr",
     "output_type": "stream",
     "text": [
      "Epoch 61/100: 100%|██████████| 1146/1146 [02:45<00:00,  6.93it/s]\n"
     ]
    },
    {
     "name": "stdout",
     "output_type": "stream",
     "text": [
      "Epoch 61: Train RMSE=0.0044 | Val RMSE=0.0015\n"
     ]
    },
    {
     "name": "stderr",
     "output_type": "stream",
     "text": [
      "Epoch 62/100: 100%|██████████| 1146/1146 [02:45<00:00,  6.92it/s]\n"
     ]
    },
    {
     "name": "stdout",
     "output_type": "stream",
     "text": [
      "Epoch 62: Train RMSE=0.0044 | Val RMSE=0.0013\n"
     ]
    },
    {
     "name": "stderr",
     "output_type": "stream",
     "text": [
      "Epoch 63/100: 100%|██████████| 1146/1146 [02:46<00:00,  6.87it/s]\n"
     ]
    },
    {
     "name": "stdout",
     "output_type": "stream",
     "text": [
      "Epoch 63: Train RMSE=0.0044 | Val RMSE=0.0011\n",
      "✅ Saved new best model.\n"
     ]
    },
    {
     "name": "stderr",
     "output_type": "stream",
     "text": [
      "Epoch 64/100: 100%|██████████| 1146/1146 [02:45<00:00,  6.92it/s]\n"
     ]
    },
    {
     "name": "stdout",
     "output_type": "stream",
     "text": [
      "Epoch 64: Train RMSE=0.0044 | Val RMSE=0.0014\n"
     ]
    },
    {
     "name": "stderr",
     "output_type": "stream",
     "text": [
      "Epoch 65/100: 100%|██████████| 1146/1146 [02:45<00:00,  6.92it/s]\n"
     ]
    },
    {
     "name": "stdout",
     "output_type": "stream",
     "text": [
      "Epoch 65: Train RMSE=0.0044 | Val RMSE=0.0012\n"
     ]
    },
    {
     "name": "stderr",
     "output_type": "stream",
     "text": [
      "Epoch 66/100: 100%|██████████| 1146/1146 [02:46<00:00,  6.89it/s]\n"
     ]
    },
    {
     "name": "stdout",
     "output_type": "stream",
     "text": [
      "Epoch 66: Train RMSE=0.0043 | Val RMSE=0.0012\n"
     ]
    },
    {
     "name": "stderr",
     "output_type": "stream",
     "text": [
      "Epoch 67/100: 100%|██████████| 1146/1146 [02:46<00:00,  6.90it/s]\n"
     ]
    },
    {
     "name": "stdout",
     "output_type": "stream",
     "text": [
      "Epoch 67: Train RMSE=0.0044 | Val RMSE=0.0014\n"
     ]
    },
    {
     "name": "stderr",
     "output_type": "stream",
     "text": [
      "Epoch 68/100: 100%|██████████| 1146/1146 [02:45<00:00,  6.92it/s]\n"
     ]
    },
    {
     "name": "stdout",
     "output_type": "stream",
     "text": [
      "Epoch 68: Train RMSE=0.0043 | Val RMSE=0.0012\n"
     ]
    },
    {
     "name": "stderr",
     "output_type": "stream",
     "text": [
      "Epoch 69/100: 100%|██████████| 1146/1146 [02:45<00:00,  6.92it/s]\n"
     ]
    },
    {
     "name": "stdout",
     "output_type": "stream",
     "text": [
      "Epoch 69: Train RMSE=0.0043 | Val RMSE=0.0013\n"
     ]
    },
    {
     "name": "stderr",
     "output_type": "stream",
     "text": [
      "Epoch 70/100: 100%|██████████| 1146/1146 [02:45<00:00,  6.93it/s]\n"
     ]
    },
    {
     "name": "stdout",
     "output_type": "stream",
     "text": [
      "Epoch 70: Train RMSE=0.0043 | Val RMSE=0.0010\n",
      "✅ Saved new best model.\n"
     ]
    },
    {
     "name": "stderr",
     "output_type": "stream",
     "text": [
      "Epoch 71/100: 100%|██████████| 1146/1146 [02:45<00:00,  6.92it/s]\n"
     ]
    },
    {
     "name": "stdout",
     "output_type": "stream",
     "text": [
      "Epoch 71: Train RMSE=0.0043 | Val RMSE=0.0012\n"
     ]
    },
    {
     "name": "stderr",
     "output_type": "stream",
     "text": [
      "Epoch 72/100: 100%|██████████| 1146/1146 [02:45<00:00,  6.91it/s]\n"
     ]
    },
    {
     "name": "stdout",
     "output_type": "stream",
     "text": [
      "Epoch 72: Train RMSE=0.0043 | Val RMSE=0.0011\n"
     ]
    },
    {
     "name": "stderr",
     "output_type": "stream",
     "text": [
      "Epoch 73/100: 100%|██████████| 1146/1146 [02:45<00:00,  6.91it/s]\n"
     ]
    },
    {
     "name": "stdout",
     "output_type": "stream",
     "text": [
      "Epoch 73: Train RMSE=0.0043 | Val RMSE=0.0011\n"
     ]
    },
    {
     "name": "stderr",
     "output_type": "stream",
     "text": [
      "Epoch 74/100: 100%|██████████| 1146/1146 [02:45<00:00,  6.91it/s]\n"
     ]
    },
    {
     "name": "stdout",
     "output_type": "stream",
     "text": [
      "Epoch 74: Train RMSE=0.0043 | Val RMSE=0.0011\n"
     ]
    },
    {
     "name": "stderr",
     "output_type": "stream",
     "text": [
      "Epoch 75/100: 100%|██████████| 1146/1146 [02:45<00:00,  6.91it/s]\n"
     ]
    },
    {
     "name": "stdout",
     "output_type": "stream",
     "text": [
      "Epoch 75: Train RMSE=0.0043 | Val RMSE=0.0011\n"
     ]
    },
    {
     "name": "stderr",
     "output_type": "stream",
     "text": [
      "Epoch 76/100: 100%|██████████| 1146/1146 [02:45<00:00,  6.91it/s]\n"
     ]
    },
    {
     "name": "stdout",
     "output_type": "stream",
     "text": [
      "Epoch 76: Train RMSE=0.0042 | Val RMSE=0.0013\n"
     ]
    },
    {
     "name": "stderr",
     "output_type": "stream",
     "text": [
      "Epoch 77/100: 100%|██████████| 1146/1146 [02:45<00:00,  6.91it/s]\n"
     ]
    },
    {
     "name": "stdout",
     "output_type": "stream",
     "text": [
      "Epoch 77: Train RMSE=0.0042 | Val RMSE=0.0012\n"
     ]
    },
    {
     "name": "stderr",
     "output_type": "stream",
     "text": [
      "Epoch 78/100: 100%|██████████| 1146/1146 [02:45<00:00,  6.92it/s]\n"
     ]
    },
    {
     "name": "stdout",
     "output_type": "stream",
     "text": [
      "Epoch 78: Train RMSE=0.0042 | Val RMSE=0.0011\n"
     ]
    },
    {
     "name": "stderr",
     "output_type": "stream",
     "text": [
      "Epoch 79/100: 100%|██████████| 1146/1146 [02:45<00:00,  6.94it/s]\n"
     ]
    },
    {
     "name": "stdout",
     "output_type": "stream",
     "text": [
      "Epoch 79: Train RMSE=0.0042 | Val RMSE=0.0012\n"
     ]
    },
    {
     "name": "stderr",
     "output_type": "stream",
     "text": [
      "Epoch 80/100: 100%|██████████| 1146/1146 [02:45<00:00,  6.94it/s]\n"
     ]
    },
    {
     "name": "stdout",
     "output_type": "stream",
     "text": [
      "Epoch 80: Train RMSE=0.0042 | Val RMSE=0.0012\n",
      "🛑 Early stopping at epoch 80\n"
     ]
    }
   ],
   "source": [
    "\n",
    "import torch\n",
    "import torch.nn as nn\n",
    "import torch.optim as optim\n",
    "from torch.optim.lr_scheduler import ReduceLROnPlateau\n",
    "from tqdm import tqdm\n",
    "import math\n",
    "\n",
    "device = torch.device(\"cuda\" if torch.cuda.is_available() else \"cpu\")\n",
    "model = Seq2SeqTransformer().to(device)\n",
    "opt   = optim.AdamW(model.parameters(), lr=1e-4, weight_decay=1e-2)\n",
    "sched = ReduceLROnPlateau(opt, mode='min', factor=0.5, patience=3, min_lr=1e-7)\n",
    "criterion = nn.MSELoss()\n",
    "\n",
    "max_epochs = 100\n",
    "patience   = 10\n",
    "best_val_mse = float('inf')\n",
    "counter      = 0\n",
    "\n",
    "for epoch in range(1, max_epochs+1):\n",
    "\n",
    "    model.train()\n",
    "    running_mse = 0.0\n",
    "    for past, fut in tqdm(train_dl, desc=f\"Epoch {epoch}/{max_epochs}\"):\n",
    "        past, fut = past.to(device), fut.to(device)\n",
    "        pred = model(past, fut)\n",
    "        loss = criterion(pred, fut)\n",
    "        opt.zero_grad()\n",
    "        loss.backward()\n",
    "        torch.nn.utils.clip_grad_norm_(model.parameters(), 1.0)\n",
    "        opt.step()\n",
    "        running_mse += loss.item() * past.size(0)\n",
    "\n",
    "    train_mse = running_mse / len(train_ds)\n",
    "    train_rmse = math.sqrt(train_mse)\n",
    "\n",
    "\n",
    "    model.eval()\n",
    "    val_mse = 0.0\n",
    "    with torch.no_grad():\n",
    "        for past, fut in val_dl:\n",
    "            past, fut = past.to(device), fut.to(device)\n",
    "            pred = model(past, fut)\n",
    "            val_mse += criterion(pred, fut).item() * past.size(0)\n",
    "    val_mse /= len(val_ds)\n",
    "    val_rmse = math.sqrt(val_mse)\n",
    "\n",
    "   \n",
    "    sched.step(val_mse)\n",
    "\n",
    "    print(f\"Epoch {epoch}: Train RMSE={train_rmse:.4f} | Val RMSE={val_rmse:.4f}\")\n",
    "\n",
    "\n",
    "    if val_mse < best_val_mse:\n",
    "        best_val_mse = val_mse\n",
    "        counter = 0\n",
    "        torch.save(model.state_dict(), \"best_model.pth\")\n",
    "        print(\"✅ Saved new best model.\")\n",
    "    else:\n",
    "        counter += 1\n",
    "        if counter >= patience:\n",
    "            print(f\"🛑 Early stopping at epoch {epoch}\")\n",
    "            break\n"
   ]
  },
  {
   "cell_type": "markdown",
   "id": "b95e115d",
   "metadata": {},
   "source": [
    "### Evaluation & RMSE"
   ]
  },
  {
   "cell_type": "code",
   "execution_count": null,
   "id": "77168e4a",
   "metadata": {},
   "outputs": [
    {
     "name": "stdout",
     "output_type": "stream",
     "text": [
      " 0.1s → 3D RMSE = 0.928 m\n",
      " 0.2s → 3D RMSE = 0.960 m\n",
      " 0.3s → 3D RMSE = 0.955 m\n",
      " 0.4s → 3D RMSE = 0.987 m\n",
      " 0.5s → 3D RMSE = 0.995 m\n",
      " 0.6s → 3D RMSE = 0.953 m\n",
      " 0.7s → 3D RMSE = 0.974 m\n",
      " 0.8s → 3D RMSE = 0.952 m\n",
      " 0.9s → 3D RMSE = 0.954 m\n",
      " 1.0s → 3D RMSE = 0.954 m\n",
      " 1.1s → 3D RMSE = 0.978 m\n",
      " 1.2s → 3D RMSE = 0.957 m\n",
      " 1.3s → 3D RMSE = 0.939 m\n",
      " 1.4s → 3D RMSE = 1.003 m\n",
      " 1.5s → 3D RMSE = 0.970 m\n",
      "\n",
      "=== Trajectory Predictor Profiling ===\n",
      "Total windows: 10735\n",
      "Wall-time: 4.998s (0.00047s/window)\n",
      " CPU-time: 1.984s\n",
      "   RAM Δ: -3.8 MB\n"
     ]
    },
    {
     "data": {
      "image/png": "[encoded data removed]",
      "text/plain": [
       "<Figure size 600x600 with 1 Axes>"
      ]
     },
     "metadata": {},
     "output_type": "display_data"
    }
   ],
   "source": [
    "import torch\n",
    "import numpy as np\n",
    "import time\n",
    "import psutil \n",
    "\n",
    "def profile_trajectory_predictor(model, dataloader, device):\n",
    "    model.eval()\n",
    "\n",
    "    if torch.cuda.is_available():\n",
    "        torch.cuda.reset_peak_memory_stats()\n",
    "        gpu0 = torch.cuda.memory_allocated(device)\n",
    "    else:\n",
    "        gpu0 = 0\n",
    "\n",
    "    t0_wall = time.time()\n",
    "    t0_cpu  = time.process_time()\n",
    "    process = psutil.Process()\n",
    "    mem0    = process.memory_info().rss \n",
    "\n",
    "    total_windows = 0\n",
    "    with torch.no_grad():\n",
    "        for past, fut in dataloader:\n",
    "            B = past.size(0)\n",
    "            past, fut = past.to(device), fut.to(device)\n",
    "            _ = model(past, fut)\n",
    "            total_windows += B\n",
    "\n",
    "    t1_wall = time.time()\n",
    "    t1_cpu  = time.process_time()\n",
    "    mem1    = process.memory_info().rss\n",
    "    gpu_peak = torch.cuda.max_memory_allocated(device) if torch.cuda.is_available() else 0\n",
    "\n",
    "    print(\"\\n=== Trajectory Predictor Profiling ===\")\n",
    "    print(f\"Total windows: {total_windows}\")\n",
    "    print(f\"Wall-time: {t1_wall - t0_wall:.3f}s \"\n",
    "          f\"({(t1_wall - t0_wall) / total_windows:.5f}s/window)\")\n",
    "    print(f\" CPU-time: {t1_cpu - t0_cpu:.3f}s\")\n",
    "    print(f\"   RAM Δ: {(mem1 - mem0) / (1024 ** 2):.1f} MB\")\n",
    "    if torch.cuda.is_available():\n",
    "        print(f\" GPU Δ peak: {(gpu_peak - gpu0) / (1024 ** 2):.1f} MB\")\n",
    "\n",
    "\n",
    "\n",
    "model = Seq2SeqTransformer().to(device)\n",
    "model.load_state_dict(torch.load(\"best_model.pth\"))\n",
    "model.eval()\n",
    "\n",
    "all_errors = []\n",
    "with torch.no_grad():\n",
    "    for past, fut_norm in test_dl:\n",
    "        past, fut_norm = past.to(device), fut_norm.to(device)\n",
    "        pred_norm = model(past, fut_norm)\n",
    "\n",
    "        pos_std  = torch.tensor(norm_params[\"pos_std\"],  device=device).view(1, 1, 3)\n",
    "        pos_mean = torch.tensor(norm_params[\"pos_mean\"], device=device).view(1, 1, 3)\n",
    "        pm = pred_norm * pos_std + pos_mean\n",
    "        fm = fut_norm  * pos_std + pos_mean\n",
    "\n",
    "        if not all_errors:\n",
    "            np.save(\"predicted.npy\",    pm[0].cpu().numpy())\n",
    "            np.save(\"ground_truth.npy\", fm[0].cpu().numpy())\n",
    "\n",
    "        errs = (pm - fm).cpu().numpy()\n",
    "        all_errors.append(errs)\n",
    "\n",
    "all_errors = np.concatenate(all_errors, axis=0)\n",
    "sq_errs    = np.sum(all_errors ** 2, axis=2)\n",
    "rmse_by_t  = np.sqrt(np.mean(sq_errs, axis=0))\n",
    "\n",
    "for i, rmse in enumerate(rmse_by_t, start=1):\n",
    "    print(f\"{0.1 * i:4.1f}s → 3D RMSE = {rmse:.3f} m\")\n",
    "\n",
    "profile_trajectory_predictor(model, test_dl, device)\n",
    "\n",
    "import pandas as pd\n",
    "import matplotlib.pyplot as plt\n",
    "\n",
    "time_steps = [round(0.1 * i, 1) for i in range(1, len(rmse_by_t) + 1)]\n",
    "rmse_table = pd.DataFrame({\n",
    "    \"Time into Future (s)\": time_steps,\n",
    "    \"3D RMSE (m)\": [round(x, 3) for x in rmse_by_t]\n",
    "})\n",
    "\n",
    "fig, ax = plt.subplots(figsize=(6, 6))\n",
    "ax.axis('off')\n",
    "table = ax.table(cellText=rmse_table.values,\n",
    "                 colLabels=rmse_table.columns,\n",
    "                 loc='center',\n",
    "                 cellLoc='center',\n",
    "                 colLoc='center')\n",
    "\n",
    "table.auto_set_font_size(False)\n",
    "table.set_fontsize(12)\n",
    "table.scale(1.2, 1.5)  \n",
    "\n",
    "plt.title(\"RMSE at Future Timesteps (Using 5 Seconds of Past UAV Data)\", fontsize=14, pad=20)\n",
    "\n",
    "plt.savefig(\"rmse_table.png\", dpi=300, bbox_inches='tight')\n",
    "plt.savefig(\"rmse_table.pdf\", bbox_inches='tight')\n",
    "plt.show()\n",
    "\n",
    "\n"
   ]
  },
  {
   "cell_type": "markdown",
   "id": "77519e6b",
   "metadata": {},
   "source": [
    "### Visualise a prediction"
   ]
  },
  {
   "cell_type": "code",
   "execution_count": 44,
   "id": "e28811f4",
   "metadata": {},
   "outputs": [
    {
     "data": {
      "image/png": "[encoded data removed]",
      "text/plain": [
       "<Figure size 1200x500 with 3 Axes>"
      ]
     },
     "metadata": {},
     "output_type": "display_data"
    }
   ],
   "source": [
    "import torch\n",
    "import numpy as np\n",
    "import matplotlib.pyplot as plt\n",
    "from mpl_toolkits.mplot3d import Axes3D\n",
    "\n",
    "model.eval()\n",
    "all_errors = []\n",
    "saved = False\n",
    "\n",
    "with torch.no_grad():\n",
    "    for past, fut_norm in test_dl:\n",
    "        past, fut_norm = past.to(device), fut_norm.to(device)\n",
    "        pred_norm = model(past, fut_norm)\n",
    "\n",
    "        pos_std  = torch.tensor(norm_params[\"pos_std\"],  device=device).view(1,1,3)\n",
    "        pos_mean = torch.tensor(norm_params[\"pos_mean\"], device=device).view(1,1,3)\n",
    "        pm = pred_norm * pos_std + pos_mean    \n",
    "        fm = fut_norm  * pos_std + pos_mean    \n",
    "\n",
    "        if not saved:\n",
    "            true_fut = fm[0].cpu().numpy()   \n",
    "            pred_fut = pm[0].cpu().numpy()\n",
    "            saved = True\n",
    "\n",
    "        errs = (pm - fm).cpu().numpy()      \n",
    "        all_errors.append(errs)\n",
    "\n",
    "all_errors = np.concatenate(all_errors, axis=0)   \n",
    "sq_errs    = np.sum(all_errors**2, axis=2)        \n",
    "rmse_by_t  = np.sqrt(np.mean(sq_errs, axis=0))    \n",
    "\n",
    "true_rel = true_fut - true_fut[0]\n",
    "pred_rel = pred_fut - true_fut[0]\n",
    "errors_first = np.linalg.norm(pred_rel - true_rel, axis=1)\n",
    "\n",
    "T = true_rel.shape[0]\n",
    "time_steps = np.arange(1, T+1) * 0.1\n",
    "mov_avg = np.convolve(rmse_by_t, np.ones(3)/3, mode='same')\n",
    "\n",
    "fig = plt.figure(figsize=(12, 5))\n",
    "fig.suptitle(\"UAV Trajectory Prediction Results\", y=1.02, fontsize=16)\n",
    "\n",
    "ax1 = fig.add_subplot(1, 2, 1, projection='3d')\n",
    "ax1.plot(true_rel[:,0], true_rel[:,1], true_rel[:,2],\n",
    "         color='dodgerblue', lw=2, label='Actual')\n",
    "sc = ax1.scatter(pred_rel[:,0], pred_rel[:,1], pred_rel[:,2],\n",
    "                 c=errors_first, cmap='viridis', s=50, label='Predicted')\n",
    "ax1.plot(pred_rel[:,0], pred_rel[:,1], pred_rel[:,2],\n",
    "         color='crimson', linestyle='--', lw=1)\n",
    "for t, p in zip(true_rel, pred_rel):\n",
    "    ax1.plot([t[0],p[0]], [t[1],p[1]], [t[2],p[2]],\n",
    "             color='gray', alpha=0.3, lw=1)\n",
    "fig.colorbar(sc, ax=ax1, pad=0.1, label='Error (m)')\n",
    "ax1.set_title(\"3D Trajectory with Error Heatmap\")\n",
    "ax1.set_xlabel(\"X (m)\"); ax1.set_ylabel(\"Y (m)\"); ax1.set_zlabel(\"Z (m)\")\n",
    "ax1.legend(); ax1.view_init(elev=20, azim=45)\n",
    "\n",
    "ax2 = fig.add_subplot(1, 2, 2)\n",
    "ax2.plot(time_steps, rmse_by_t, 'k-o', lw=2, markersize=5, label='RMSE')\n",
    "ax2.plot(time_steps, mov_avg, 'r--', lw=2, label='3-step Avg')\n",
    "max_i = np.argmax(rmse_by_t)\n",
    "ax2.annotate(f\"Max: {rmse_by_t[max_i]:.3f} m\",\n",
    "             xy=(time_steps[max_i], rmse_by_t[max_i]),\n",
    "             xytext=(time_steps[max_i]+0.1, rmse_by_t[max_i]+0.05),\n",
    "             arrowprops=dict(arrowstyle=\"->\"))\n",
    "ax2.set_title(\"Prediction Error Progression\")\n",
    "ax2.set_xlabel(\"Time into Future (s)\")\n",
    "ax2.set_ylabel(\"3D RMSE (m)\")\n",
    "ax2.legend()\n",
    "ax2.grid(True)\n",
    "\n",
    "plt.tight_layout()\n",
    "plt.show()\n"
   ]
  },
  {
   "cell_type": "code",
   "execution_count": 9,
   "id": "0eccfb5c",
   "metadata": {},
   "outputs": [
    {
     "data": {
      "image/png": "[encoded data removed]",
      "text/plain": [
       "<Figure size 600x400 with 1 Axes>"
      ]
     },
     "metadata": {},
     "output_type": "display_data"
    },
    {
     "data": {
      "image/png": "[encoded data removed]",
      "text/plain": [
       "<Figure size 400x400 with 1 Axes>"
      ]
     },
     "metadata": {},
     "output_type": "display_data"
    },
    {
     "name": "stdout",
     "output_type": "stream",
     "text": [
      "                       Metric\n",
      "Mean Error (cm)    301.764574\n",
      "Median Error (cm)  304.404229\n",
      "Max Error (cm)     328.378746\n"
     ]
    }
   ],
   "source": [
    "import numpy as np\n",
    "import pandas as pd\n",
    "import matplotlib.pyplot as plt\n",
    "import seaborn as sns\n",
    "\n",
    "\n",
    "pred = np.load(\"predicted.npy\")    \n",
    "true = np.load(\"ground_truth.npy\") \n",
    "dt   = 0.1                         \n",
    "\n",
    "\n",
    "errors = np.linalg.norm(pred - true, axis=1)  \n",
    "t      = np.arange(len(errors)) * dt\n",
    "\n",
    "plt.figure(figsize=(6,4))\n",
    "plt.plot(t, errors * 100, 'o-', lw=2)\n",
    "plt.xlabel(\"Time (s)\")\n",
    "plt.ylabel(\"Error (cm)\")\n",
    "plt.title(\"Prediction Error over Horizon\")\n",
    "plt.grid(True)\n",
    "plt.tight_layout()\n",
    "plt.show()\n",
    "\n",
    "plt.figure(figsize=(4,4))\n",
    "sns.boxplot(y=errors * 100)\n",
    "plt.ylabel(\"Error (cm)\")\n",
    "plt.title(\"Error Distribution\")\n",
    "plt.tight_layout()\n",
    "plt.show()\n",
    "\n",
    "summary = {\n",
    "    \"Mean Error (cm)\"   : errors.mean() * 100,\n",
    "    \"Median Error (cm)\" : np.median(errors) * 100,\n",
    "    \"Max Error (cm)\"    : errors.max() * 100,\n",
    "}\n",
    "print(pd.DataFrame(summary, index=[\"Metric\"]).T)\n"
   ]
  },
  {
   "cell_type": "code",
   "execution_count": null,
   "id": "b6a9f462",
   "metadata": {},
   "outputs": [],
   "source": []
  }
 ],
 "metadata": {
  "kernelspec": {
   "display_name": "AirEnv",
   "language": "python",
   "name": "python3"
  },
  "language_info": {
   "codemirror_mode": {
    "name": "ipython",
    "version": 3
   },
   "file_extension": ".py",
   "mimetype": "text/x-python",
   "name": "python",
   "nbconvert_exporter": "python",
   "pygments_lexer": "ipython3",
   "version": "3.11.4"
  }
 },
 "nbformat": 4,
 "nbformat_minor": 5
}
